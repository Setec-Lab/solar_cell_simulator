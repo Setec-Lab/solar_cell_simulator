{
 "cells": [
  {
   "cell_type": "code",
   "execution_count": 1,
   "metadata": {},
   "outputs": [],
   "source": [
    "Param=[\"Voc\", \"Isc\", \"Vmp\", \"Imp\", \"IrRef\", \"TRef\", \"DTIsc\", \"DTVoc\", \"a\"]"
   ]
  },
  {
   "cell_type": "code",
   "execution_count": 2,
   "metadata": {},
   "outputs": [],
   "source": [
    "Names=[\"Open circuit voltage [mV]\", \"Short circuit current [mA]\", \"Maximum power point voltage [mV]\", \"Maximum power point current [mA]\", \"Reference irradiance [W/m^2]\", \"Reference temperature [°C]\", \"Isc temperature gradient [mA/°C]\", \"Voc temperature gradient [mV/°C]\", \"Diode ideality factor\"] "
   ]
  },
  {
   "cell_type": "code",
   "execution_count": 3,
   "metadata": {},
   "outputs": [],
   "source": [
    "Defi=['2512', '501.3', '2244', '485.1', '1367', '28', '0.38', '-6.7', '1.5']"
   ]
  },
  {
   "cell_type": "code",
   "execution_count": 4,
   "metadata": {},
   "outputs": [
    {
     "name": "stdout",
     "output_type": "stream",
     "text": [
      "Definition of solar cell parameters. Default values in parentesis\n",
      "Press enter in each case to mantain the defaults\n"
     ]
    }
   ],
   "source": [
    "print(\"Definition of solar cell parameters. Default values in parentesis\")\n",
    "print('Press enter in each case to mantain the defaults')"
   ]
  },
  {
   "cell_type": "code",
   "execution_count": 5,
   "metadata": {},
   "outputs": [],
   "source": [
    "New = list()"
   ]
  },
  {
   "cell_type": "code",
   "execution_count": 6,
   "metadata": {},
   "outputs": [
    {
     "name": "stdout",
     "output_type": "stream",
     "text": [
      "Open circuit voltage [mV]  (Voc=2512)\n",
      "\n",
      "Short circuit current [mA]  (Isc=501.3)\n",
      "\n",
      "Maximum power point voltage [mV]  (Vmp=2244)\n",
      "\n",
      "Maximum power point current [mA]  (Imp=485.1)\n",
      "\n",
      "Reference irradiance [W/m^2]  (IrRef=1367)\n",
      "\n",
      "Reference temperature [°C]  (TRef=28)\n",
      "\n",
      "Isc temperature gradient [mA/°C]  (DTIsc=0.38)\n",
      "\n",
      "Voc temperature gradient [mV/°C]  (DTVoc=-6.7)\n",
      "\n",
      "Diode ideality factor  (a=1.5)\n",
      "\n"
     ]
    }
   ],
   "source": [
    "for param, name, defi in zip(Param, Names, Defi):\n",
    "    print('{n}  ({p}={d})'.format(n=name, p=param, d=defi))\n",
    "    var = input()\n",
    "    if var == \"\":\n",
    "        New.append(float(defi))\n",
    "    else:\n",
    "        New.append(float(var))\n",
    "    continue"
   ]
  },
  {
   "cell_type": "code",
   "execution_count": 7,
   "metadata": {},
   "outputs": [
    {
     "name": "stdout",
     "output_type": "stream",
     "text": [
      "[2512.0, 501.3, 2244.0, 485.1, 1367.0, 28.0, 0.38, -6.7, 1.5]\n"
     ]
    }
   ],
   "source": [
    "print(New)\n"
   ]
  },
  {
   "cell_type": "code",
   "execution_count": 8,
   "metadata": {},
   "outputs": [
    {
     "name": "stdout",
     "output_type": "stream",
     "text": [
      "['Voc', 'Isc', 'Vmp', 'Imp', 'IrRef', 'TRef', 'DTIsc', 'DTVoc', 'a']\n"
     ]
    }
   ],
   "source": [
    "print(Param)"
   ]
  },
  {
   "cell_type": "code",
   "execution_count": 9,
   "metadata": {},
   "outputs": [],
   "source": [
    "k = 1.38064852e-23"
   ]
  },
  {
   "cell_type": "code",
   "execution_count": 10,
   "metadata": {},
   "outputs": [
    {
     "data": {
      "text/plain": [
       "float"
      ]
     },
     "execution_count": 10,
     "metadata": {},
     "output_type": "execute_result"
    }
   ],
   "source": [
    "type(k)"
   ]
  },
  {
   "cell_type": "code",
   "execution_count": 11,
   "metadata": {},
   "outputs": [],
   "source": [
    "q = 1.6021766208e-19"
   ]
  },
  {
   "cell_type": "code",
   "execution_count": 12,
   "metadata": {},
   "outputs": [],
   "source": [
    "from sympy import *\n",
    "import sympy as sp\n",
    "import numpy as np\n",
    "import matplotlib.pyplot as plt\n",
    "from scipy.optimize import fsolve"
   ]
  },
  {
   "cell_type": "code",
   "execution_count": 13,
   "metadata": {},
   "outputs": [],
   "source": [
    "Rs = Symbol('Rs',real=True)"
   ]
  },
  {
   "cell_type": "code",
   "execution_count": 14,
   "metadata": {},
   "outputs": [],
   "source": [
    "Voc = New[0]\n",
    "Isc = New[1]\n",
    "Vmp = New[2]\n",
    "Imp = New[3]\n",
    "IrRef = New[4]\n",
    "TRef = New[5]\n",
    "DTIsc = New[6]\n",
    "DTVoc = New[7]\n",
    "a = New[8]"
   ]
  },
  {
   "cell_type": "code",
   "execution_count": 15,
   "metadata": {},
   "outputs": [],
   "source": [
    "Vt = 1000*k*(TRef+273.15)/q"
   ]
  },
  {
   "cell_type": "code",
   "execution_count": 16,
   "metadata": {},
   "outputs": [
    {
     "name": "stdout",
     "output_type": "stream",
     "text": [
      "25.95109031052963\n"
     ]
    }
   ],
   "source": [
    "print(Vt)"
   ]
  },
  {
   "cell_type": "code",
   "execution_count": 17,
   "metadata": {},
   "outputs": [],
   "source": [
    "T1 = simplify((a*Vt*Vmp*(2*Imp-Isc))/((Vmp*Isc+Voc*(Imp-Isc))*(Vmp-Imp*Rs)-a*Vt*(Vmp*Isc-Voc*Imp)))"
   ]
  },
  {
   "cell_type": "code",
   "execution_count": 18,
   "metadata": {},
   "outputs": [
    {
     "name": "stdout",
     "output_type": "stream",
     "text": [
      "-40959057.3860803/(525956480.28*Rs - 2436641598.31791)\n"
     ]
    }
   ],
   "source": [
    "print(T1)"
   ]
  },
  {
   "cell_type": "code",
   "execution_count": 19,
   "metadata": {},
   "outputs": [],
   "source": [
    "T2 = simplify(sp.exp((Vmp+Imp*Rs-Voc)/(a*Vt)))"
   ]
  },
  {
   "cell_type": "code",
   "execution_count": 20,
   "metadata": {},
   "outputs": [],
   "source": [
    "func = T1-T2"
   ]
  },
  {
   "cell_type": "code",
   "execution_count": 21,
   "metadata": {},
   "outputs": [
    {
     "name": "stdout",
     "output_type": "stream",
     "text": [
      "-0.00102327597706717*exp(12.4619041485429*Rs) - 40959057.3860803/(525956480.28*Rs - 2436641598.31791)\n"
     ]
    }
   ],
   "source": [
    "print(func)"
   ]
  },
  {
   "cell_type": "code",
   "execution_count": 31,
   "metadata": {},
   "outputs": [],
   "source": [
    "Rs = nsolve(func, 0.1)"
   ]
  },
  {
   "cell_type": "code",
   "execution_count": 52,
   "metadata": {},
   "outputs": [
    {
     "name": "stdout",
     "output_type": "stream",
     "text": [
      "Rs= 0.228661690120130\n"
     ]
    }
   ],
   "source": [
    "print('Rs=',Rs)"
   ]
  },
  {
   "cell_type": "code",
   "execution_count": 33,
   "metadata": {},
   "outputs": [],
   "source": [
    "Rsh=((Vmp-Imp*Rs)*(Vmp-Rs*(Isc-Imp)-a*Vt))/((Vmp-Imp*Rs)*(Isc-Imp)-a*Vt*Imp)"
   ]
  },
  {
   "cell_type": "code",
   "execution_count": 34,
   "metadata": {},
   "outputs": [
    {
     "name": "stdout",
     "output_type": "stream",
     "text": [
      "299.612749506682\n"
     ]
    }
   ],
   "source": [
    "print('Rsh=',Rsh)"
   ]
  },
  {
   "cell_type": "code",
   "execution_count": 40,
   "metadata": {},
   "outputs": [],
   "source": [
    "I0 = (((Rsh+Rs)*Isc-Voc)/1000)/(Rsh*exp(Voc/(a*Vt))) #Diode dark current"
   ]
  },
  {
   "cell_type": "code",
   "execution_count": 51,
   "metadata": {},
   "outputs": [
    {
     "name": "stdout",
     "output_type": "stream",
     "text": [
      "I0= 4.64911624361405e-29\n"
     ]
    }
   ],
   "source": [
    "print('I0=',I0)"
   ]
  },
  {
   "cell_type": "code",
   "execution_count": 45,
   "metadata": {},
   "outputs": [],
   "source": [
    "Ipv = ((Rsh+Rs)/(Rsh))*(Isc/1000) #Solar current"
   ]
  },
  {
   "cell_type": "code",
   "execution_count": 50,
   "metadata": {},
   "outputs": [
    {
     "name": "stdout",
     "output_type": "stream",
     "text": [
      "Ipv= 0.501682587541571\n"
     ]
    }
   ],
   "source": [
    "print('Ipv=',Ipv)"
   ]
  },
  {
   "cell_type": "code",
   "execution_count": null,
   "metadata": {},
   "outputs": [],
   "source": []
  }
 ],
 "metadata": {
  "kernelspec": {
   "display_name": "Python 3",
   "language": "python",
   "name": "python3"
  },
  "language_info": {
   "codemirror_mode": {
    "name": "ipython",
    "version": 3
   },
   "file_extension": ".py",
   "mimetype": "text/x-python",
   "name": "python",
   "nbconvert_exporter": "python",
   "pygments_lexer": "ipython3",
   "version": "3.6.4"
  }
 },
 "nbformat": 4,
 "nbformat_minor": 2
}
